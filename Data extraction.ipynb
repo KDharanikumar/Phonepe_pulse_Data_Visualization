{
 "cells": [
  {
   "cell_type": "code",
   "execution_count": null,
   "id": "8f8a9efa",
   "metadata": {},
   "outputs": [],
   "source": [
    "#Installing libraries\n",
    "!pip install streamlit\n",
    "!pip install mysql.connector\n",
    "!pip install plotly\n",
    "!pip install os\n",
    "!pip install gitpython"
   ]
  },
  {
   "cell_type": "code",
   "execution_count": 2,
   "id": "99c7d470",
   "metadata": {},
   "outputs": [],
   "source": [
    "import pandas as pd\n",
    "import mysql.connector as sql\n",
    "import streamlit as st\n",
    "import plotly.express as px\n",
    "import os\n",
    "import json\n",
    "from PIL import Image"
   ]
  },
  {
   "cell_type": "code",
   "execution_count": null,
   "id": "7b4805d6",
   "metadata": {},
   "outputs": [],
   "source": [
    "# DATA TRANSFORMATION"
   ]
  },
  {
   "cell_type": "code",
   "execution_count": 3,
   "id": "455662eb",
   "metadata": {},
   "outputs": [],
   "source": [
    "# Dataframe of aggregated Transactions\n",
    "path1 = \"C:/Users/dharanikumark/Phonepe_pulse/data/aggregated/transaction/country/india/state/\"\n",
    "agg_trans_list = os.listdir(path1)\n",
    "\n",
    "columns1 = {'State': [], 'Year': [], 'Quarter': [], 'Transaction_type': [], 'Transaction_count': [],\n",
    "            'Transaction_amount': []}\n",
    "for state in agg_trans_list:\n",
    "    cur_state = path1 + state + \"/\"\n",
    "    agg_year_list = os.listdir(cur_state)\n",
    "\n",
    "    for year in agg_year_list:\n",
    "        cur_year = cur_state + year + \"/\"\n",
    "        agg_file_list = os.listdir(cur_year)\n",
    "\n",
    "        for file in agg_file_list:\n",
    "            cur_file = cur_year + file\n",
    "            data = open(cur_file, 'r')\n",
    "            A = json.load(data)\n",
    "\n",
    "            for i in A['data']['transactionData']:\n",
    "                name = i['name']\n",
    "                count = i['paymentInstruments'][0]['count']\n",
    "                amount = i['paymentInstruments'][0]['amount']\n",
    "                columns1['Transaction_type'].append(name)\n",
    "                columns1['Transaction_count'].append(count)\n",
    "                columns1['Transaction_amount'].append(amount)\n",
    "                columns1['State'].append(state)\n",
    "                columns1['Year'].append(year)\n",
    "                columns1['Quarter'].append(int(file.strip('.json')))\n",
    "\n",
    "df_agg_trans = pd.DataFrame(columns1)"
   ]
  },
  {
   "cell_type": "code",
   "execution_count": null,
   "id": "2b0196f0",
   "metadata": {},
   "outputs": [],
   "source": [
    "df_agg_trans.shape"
   ]
  },
  {
   "cell_type": "code",
   "execution_count": 5,
   "id": "5a9ff011",
   "metadata": {},
   "outputs": [],
   "source": [
    "# data frame of aggregated user\n",
    "path2 = \"C:/Users/dharanikumark/Phonepe_pulse/data/aggregated/user/country/india/state/\"\n",
    "\n",
    "agg_user_list = os.listdir(path2)\n",
    "\n",
    "columns2 = {'State': [], 'Year': [], 'Quarter': [], 'Brands': [], 'Count': [],\n",
    "            'Percentage': []}\n",
    "for state in agg_user_list:\n",
    "    cur_state = path2 + state + \"/\"\n",
    "    agg_year_list = os.listdir(cur_state)\n",
    "\n",
    "    for year in agg_year_list:\n",
    "        cur_year = cur_state + year + \"/\"\n",
    "        agg_file_list = os.listdir(cur_year)\n",
    "\n",
    "        for file in agg_file_list:\n",
    "            cur_file = cur_year + file\n",
    "            data = open(cur_file, 'r')\n",
    "            B = json.load(data)\n",
    "            try:\n",
    "                for i in B[\"data\"][\"usersByDevice\"]:\n",
    "                    brand_name = i[\"brand\"]\n",
    "                    counts = i[\"count\"]\n",
    "                    percents = i[\"percentage\"]\n",
    "                    columns2[\"Brands\"].append(brand_name)\n",
    "                    columns2[\"Count\"].append(counts)\n",
    "                    columns2[\"Percentage\"].append(percents)\n",
    "                    columns2[\"State\"].append(state)\n",
    "                    columns2[\"Year\"].append(year)\n",
    "                    columns2[\"Quarter\"].append(int(file.strip('.json')))\n",
    "            except:\n",
    "                pass\n",
    "df_agg_user = pd.DataFrame(columns2)"
   ]
  },
  {
   "cell_type": "code",
   "execution_count": null,
   "id": "2c6dd863",
   "metadata": {},
   "outputs": [],
   "source": [
    "df_agg_user"
   ]
  },
  {
   "cell_type": "code",
   "execution_count": 7,
   "id": "35ba8dc2",
   "metadata": {},
   "outputs": [],
   "source": [
    "# Data frame of map transactions\n",
    "path3 = \"C:/Users/dharanikumark/Phonepe_pulse/data/map/transaction/hover/country/india/state/\"\n",
    "\n",
    "map_trans_list = os.listdir(path3)\n",
    "\n",
    "columns3 = {'State': [], 'Year': [], 'Quarter': [], 'District': [], 'Count': [],\n",
    "            'Amount': []}\n",
    "\n",
    "for state in map_trans_list:\n",
    "    cur_state = path3 + state + \"/\"\n",
    "    map_year_list = os.listdir(cur_state)\n",
    "\n",
    "    for year in map_year_list:\n",
    "        cur_year = cur_state + year + \"/\"\n",
    "        map_file_list = os.listdir(cur_year)\n",
    "\n",
    "        for file in map_file_list:\n",
    "            cur_file = cur_year + file\n",
    "            data = open(cur_file, 'r')\n",
    "            C = json.load(data)\n",
    "\n",
    "            for i in C[\"data\"][\"hoverDataList\"]:\n",
    "                district = i[\"name\"]\n",
    "                count = i[\"metric\"][0][\"count\"]\n",
    "                amount = i[\"metric\"][0][\"amount\"]\n",
    "                columns3[\"District\"].append(district)\n",
    "                columns3[\"Count\"].append(count)\n",
    "                columns3[\"Amount\"].append(amount)\n",
    "                columns3['State'].append(state)\n",
    "                columns3['Year'].append(year)\n",
    "                columns3['Quarter'].append(int(file.strip('.json')))\n",
    "\n",
    "df_map_trans = pd.DataFrame(columns3)"
   ]
  },
  {
   "cell_type": "code",
   "execution_count": null,
   "id": "9636fc7b",
   "metadata": {},
   "outputs": [],
   "source": [
    "df_map_trans"
   ]
  },
  {
   "cell_type": "code",
   "execution_count": 9,
   "id": "79ea482a",
   "metadata": {},
   "outputs": [],
   "source": [
    "# Data frame of map user\n",
    "path4 = \"C:/Users/dharanikumark/Phonepe_pulse/data/map/user/hover/country/india/state/\"\n",
    "\n",
    "map_user_list = os.listdir(path4)\n",
    "\n",
    "columns4 = {\"State\": [], \"Year\": [], \"Quarter\": [], \"District\": [],\n",
    "            \"RegisteredUser\": [], \"AppOpens\": []}\n",
    "\n",
    "for state in map_user_list:\n",
    "    cur_state = path4 + state + \"/\"\n",
    "    map_year_list = os.listdir(cur_state)\n",
    "\n",
    "    for year in map_year_list:\n",
    "        cur_year = cur_state + year + \"/\"\n",
    "        map_file_list = os.listdir(cur_year)\n",
    "\n",
    "        for file in map_file_list:\n",
    "            cur_file = cur_year + file\n",
    "            data = open(cur_file, 'r')\n",
    "            D = json.load(data)\n",
    "\n",
    "            for i in D[\"data\"][\"hoverData\"].items():\n",
    "                district = i[0]\n",
    "                registereduser = i[1][\"registeredUsers\"]\n",
    "                appOpens = i[1]['appOpens']\n",
    "                columns4[\"District\"].append(district)\n",
    "                columns4[\"RegisteredUser\"].append(registereduser)\n",
    "                columns4[\"AppOpens\"].append(appOpens)\n",
    "                columns4['State'].append(state)\n",
    "                columns4['Year'].append(year)\n",
    "                columns4['Quarter'].append(int(file.strip('.json')))\n",
    "\n",
    "df_map_user = pd.DataFrame(columns4)"
   ]
  },
  {
   "cell_type": "code",
   "execution_count": null,
   "id": "da4e7696",
   "metadata": {},
   "outputs": [],
   "source": [
    "df_map_user"
   ]
  },
  {
   "cell_type": "code",
   "execution_count": 11,
   "id": "9250aaaf",
   "metadata": {},
   "outputs": [],
   "source": [
    "# Data frame of top transactions\n",
    "path5 = \"C:/Users/dharanikumark/Phonepe_pulse/data/top/transaction/country/india/state/\"\n",
    "\n",
    "top_trans_list = os.listdir(path5)\n",
    "columns5 = {'State': [], 'Year': [], 'Quarter': [], 'Pincode': [], 'Transaction_count': [],\n",
    "            'Transaction_amount': []}\n",
    "\n",
    "for state in top_trans_list:\n",
    "    cur_state = path5 + state + \"/\"\n",
    "    top_year_list = os.listdir(cur_state)\n",
    "\n",
    "    for year in top_year_list:\n",
    "        cur_year = cur_state + year + \"/\"\n",
    "        top_file_list = os.listdir(cur_year)\n",
    "\n",
    "        for file in top_file_list:\n",
    "            cur_file = cur_year + file\n",
    "            data = open(cur_file, 'r')\n",
    "            E = json.load(data)\n",
    "\n",
    "            for i in E['data']['pincodes']:\n",
    "                name = i['entityName']\n",
    "                count = i['metric']['count']\n",
    "                amount = i['metric']['amount']\n",
    "                columns5['Pincode'].append(name)\n",
    "                columns5['Transaction_count'].append(count)\n",
    "                columns5['Transaction_amount'].append(amount)\n",
    "                columns5['State'].append(state)\n",
    "                columns5['Year'].append(year)\n",
    "                columns5['Quarter'].append(int(file.strip('.json')))\n",
    "df_top_trans = pd.DataFrame(columns5)"
   ]
  },
  {
   "cell_type": "code",
   "execution_count": null,
   "id": "d0f21c0c",
   "metadata": {},
   "outputs": [],
   "source": [
    "df_top_trans"
   ]
  },
  {
   "cell_type": "code",
   "execution_count": 13,
   "id": "a0cb7b58",
   "metadata": {},
   "outputs": [],
   "source": [
    "# Data frame of top users\n",
    "path6 = \"C:/Users/dharanikumark/Phonepe_pulse/data/top/user/country/india/state/\"\n",
    "top_user_list = os.listdir(path6)\n",
    "columns6 = {'State': [], 'Year': [], 'Quarter': [], 'Pincode': [],\n",
    "            'RegisteredUsers': []}\n",
    "\n",
    "for state in top_user_list:\n",
    "    cur_state = path6 + state + \"/\"\n",
    "    top_year_list = os.listdir(cur_state)\n",
    "\n",
    "    for year in top_year_list:\n",
    "        cur_year = cur_state + year + \"/\"\n",
    "        top_file_list = os.listdir(cur_year)\n",
    "\n",
    "        for file in top_file_list:\n",
    "            cur_file = cur_year + file\n",
    "            data = open(cur_file, 'r')\n",
    "            F = json.load(data)\n",
    "\n",
    "            for i in F['data']['pincodes']:\n",
    "                name = i['name']\n",
    "                registeredUsers = i['registeredUsers']\n",
    "                columns6['Pincode'].append(name)\n",
    "                columns6['RegisteredUsers'].append(registeredUsers)\n",
    "                columns6['State'].append(state)\n",
    "                columns6['Year'].append(year)\n",
    "                columns6['Quarter'].append(int(file.strip('.json')))\n",
    "df_top_user = pd.DataFrame(columns6)"
   ]
  },
  {
   "cell_type": "code",
   "execution_count": null,
   "id": "f073cf3c",
   "metadata": {},
   "outputs": [],
   "source": [
    "df_top_user"
   ]
  },
  {
   "cell_type": "code",
   "execution_count": 15,
   "id": "a6d35006",
   "metadata": {},
   "outputs": [],
   "source": [
    "# Coverting Data frames to csv files\n",
    "df_agg_trans.to_csv('agg_trans.csv',index=False)\n",
    "df_agg_user.to_csv('agg_user.csv',index=False)\n",
    "df_map_trans.to_csv('map_trans.csv',index=False)\n",
    "df_map_user.to_csv('map_user.csv',index=False)\n",
    "df_top_trans.to_csv('top_trans.csv',index=False)\n",
    "df_top_user.to_csv('top_user.csv',index=False)"
   ]
  },
  {
   "cell_type": "code",
   "execution_count": null,
   "id": "ff46b498",
   "metadata": {},
   "outputs": [],
   "source": [
    "!pip install pymysql"
   ]
  },
  {
   "cell_type": "code",
   "execution_count": 16,
   "id": "04f3b8aa",
   "metadata": {},
   "outputs": [],
   "source": [
    "# Creating connection with MySQL\n",
    "# Connecting with SQL\n",
    "mydb = sql.connect(host=\"localhost\",\n",
    "                   user=\"root\",\n",
    "                   password=\"root\",\n",
    "                   database= \"Phonepe_pulse\"\n",
    "                  )\n",
    "mycursor = mydb.cursor(buffered=True)"
   ]
  },
  {
   "cell_type": "code",
   "execution_count": 17,
   "id": "b1c8bd4e",
   "metadata": {},
   "outputs": [],
   "source": [
    "# Creating new database and tables\n",
    "mycursor.execute(\"CREATE DATABASE Phonepe_pulse\")"
   ]
  },
  {
   "cell_type": "code",
   "execution_count": 18,
   "id": "92b63e1d",
   "metadata": {},
   "outputs": [],
   "source": [
    "mycursor.execute(\"USE Phonepe_pulse\")"
   ]
  },
  {
   "cell_type": "code",
   "execution_count": 19,
   "id": "a8d13d6e",
   "metadata": {},
   "outputs": [],
   "source": [
    "# Creating agg_trans table\n",
    "mycursor.execute(\"create table agg_trans (State varchar(100), Year int, Quarter int, Transaction_type varchar(100), Transaction_count int, Transaction_amount double)\")\n",
    "\n",
    "for i,row in df_agg_trans.iterrows():\n",
    "    #here %S means string values\n",
    "    sql = \"INSERT INTO agg_trans VALUES (%s,%s,%s,%s,%s,%s)\"\n",
    "    mycursor.execute(sql, tuple(row))\n",
    "    # the connection is not auto committed by default, so we must commit to save our changes\n",
    "    mydb.commit()"
   ]
  },
  {
   "cell_type": "code",
   "execution_count": 20,
   "id": "af8e8368",
   "metadata": {},
   "outputs": [],
   "source": [
    "# Creating agg_user table\n",
    "mycursor.execute(\"create table agg_user (State varchar(100), Year int, Quarter int, Brands varchar(100), Count int, Percentage double)\")\n",
    "\n",
    "for i,row in df_agg_user.iterrows():\n",
    "    sql = \"INSERT INTO agg_user VALUES (%s,%s,%s,%s,%s,%s)\"\n",
    "    mycursor.execute(sql, tuple(row))\n",
    "    mydb.commit()"
   ]
  },
  {
   "cell_type": "code",
   "execution_count": 21,
   "id": "29167368",
   "metadata": {},
   "outputs": [],
   "source": [
    "# Creating map_trans table\n",
    "mycursor.execute(\"create table map_trans (State varchar(100), Year int, Quarter int, District varchar(100), Count int, Amount double)\")\n",
    "\n",
    "for i,row in df_map_trans.iterrows():\n",
    "    sql = \"INSERT INTO map_trans VALUES (%s,%s,%s,%s,%s,%s)\"\n",
    "    mycursor.execute(sql, tuple(row))\n",
    "    mydb.commit()"
   ]
  },
  {
   "cell_type": "code",
   "execution_count": 22,
   "id": "a0a784a3",
   "metadata": {},
   "outputs": [],
   "source": [
    "# Creating map_user table\n",
    "mycursor.execute(\"create table map_user (State varchar(100), Year int, Quarter int, District varchar(100), Registered_user int, App_opens int)\")\n",
    "\n",
    "for i,row in df_map_user.iterrows():\n",
    "    sql = \"INSERT INTO map_user VALUES (%s,%s,%s,%s,%s,%s)\"\n",
    "    mycursor.execute(sql, tuple(row))\n",
    "    mydb.commit()"
   ]
  },
  {
   "cell_type": "code",
   "execution_count": 23,
   "id": "05d50ee5",
   "metadata": {},
   "outputs": [],
   "source": [
    "# Creating top_trans table\n",
    "mycursor.execute(\"create table top_trans (State varchar(100), Year int, Quarter int, Pincode int, Transaction_count int, Transaction_amount double)\")\n",
    "\n",
    "for i,row in df_top_trans.iterrows():\n",
    "    sql = \"INSERT INTO top_trans VALUES (%s,%s,%s,%s,%s,%s)\"\n",
    "    mycursor.execute(sql, tuple(row))\n",
    "    mydb.commit()"
   ]
  },
  {
   "cell_type": "code",
   "execution_count": 24,
   "id": "d6aae4de",
   "metadata": {},
   "outputs": [],
   "source": [
    "# Creating top_user table\n",
    "mycursor.execute(\"create table top_user (State varchar(100), Year int, Quarter int, Pincode int, Registered_users int)\")\n",
    "\n",
    "for i,row in df_top_user.iterrows():\n",
    "    sql = \"INSERT INTO top_user VALUES (%s,%s,%s,%s,%s)\"\n",
    "    mycursor.execute(sql, tuple(row))\n",
    "    mydb.commit()"
   ]
  },
  {
   "cell_type": "code",
   "execution_count": null,
   "id": "728450e3",
   "metadata": {},
   "outputs": [],
   "source": [
    "# List of tables\n",
    "mycursor.execute(\"show tables\")\n",
    "mycursor.fetchall()"
   ]
  }
 ],
 "metadata": {
  "kernelspec": {
   "display_name": "Python 3",
   "language": "python",
   "name": "python3"
  },
  "language_info": {
   "codemirror_mode": {
    "name": "ipython",
    "version": 3
   },
   "file_extension": ".py",
   "mimetype": "text/x-python",
   "name": "python",
   "nbconvert_exporter": "python",
   "pygments_lexer": "ipython3",
   "version": "3.13.0"
  }
 },
 "nbformat": 4,
 "nbformat_minor": 5
}
